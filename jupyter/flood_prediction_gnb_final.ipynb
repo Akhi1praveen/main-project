{
 "cells": [
  {
   "cell_type": "code",
   "execution_count": null,
   "id": "d88b5d96",
   "metadata": {},
   "outputs": [],
   "source": [
    "# Flood Prediction using Gaussian Naïve Bayes (GNB)\n"
   ]
  },
  {
   "cell_type": "code",
   "execution_count": 7,
   "id": "4b9a203e",
   "metadata": {},
   "outputs": [],
   "source": [
    "import numpy as np\n",
    "import pandas as pd\n",
    "import warnings\n",
    "from sklearn.model_selection import train_test_split\n",
    "from sklearn.preprocessing import PowerTransformer\n",
    "from sklearn.naive_bayes import GaussianNB\n",
    "from sklearn.metrics import accuracy_score, classification_report, confusion_matrix\n",
    "warnings.filterwarnings('ignore')\n"
   ]
  },
  {
   "cell_type": "code",
   "execution_count": 12,
   "id": "179bb166",
   "metadata": {},
   "outputs": [
    {
     "data": {
      "text/html": [
       "<div>\n",
       "<style scoped>\n",
       "    .dataframe tbody tr th:only-of-type {\n",
       "        vertical-align: middle;\n",
       "    }\n",
       "\n",
       "    .dataframe tbody tr th {\n",
       "        vertical-align: top;\n",
       "    }\n",
       "\n",
       "    .dataframe thead th {\n",
       "        text-align: right;\n",
       "    }\n",
       "</style>\n",
       "<table border=\"1\" class=\"dataframe\">\n",
       "  <thead>\n",
       "    <tr style=\"text-align: right;\">\n",
       "      <th></th>\n",
       "      <th>Rainfall (mm)</th>\n",
       "      <th>Temperature (°C)</th>\n",
       "      <th>Humidity (%)</th>\n",
       "      <th>River Discharge (m³/s)</th>\n",
       "      <th>Water Level (m)</th>\n",
       "      <th>Elevation (m)</th>\n",
       "      <th>Historical Floods</th>\n",
       "      <th>Flood Occurred</th>\n",
       "    </tr>\n",
       "  </thead>\n",
       "  <tbody>\n",
       "    <tr>\n",
       "      <th>count</th>\n",
       "      <td>5000.000000</td>\n",
       "      <td>5000.000000</td>\n",
       "      <td>5000.000000</td>\n",
       "      <td>5000.000000</td>\n",
       "      <td>5000.000000</td>\n",
       "      <td>5000.000000</td>\n",
       "      <td>5000.000000</td>\n",
       "      <td>5000.00000</td>\n",
       "    </tr>\n",
       "    <tr>\n",
       "      <th>mean</th>\n",
       "      <td>82.937247</td>\n",
       "      <td>30.119960</td>\n",
       "      <td>62.041264</td>\n",
       "      <td>1240.658130</td>\n",
       "      <td>4.965512</td>\n",
       "      <td>1144.825402</td>\n",
       "      <td>1.742800</td>\n",
       "      <td>0.32920</td>\n",
       "    </tr>\n",
       "    <tr>\n",
       "      <th>std</th>\n",
       "      <td>68.799231</td>\n",
       "      <td>6.469157</td>\n",
       "      <td>21.239291</td>\n",
       "      <td>1232.517583</td>\n",
       "      <td>1.789395</td>\n",
       "      <td>2130.272042</td>\n",
       "      <td>1.446882</td>\n",
       "      <td>0.46997</td>\n",
       "    </tr>\n",
       "    <tr>\n",
       "      <th>min</th>\n",
       "      <td>0.582906</td>\n",
       "      <td>13.597231</td>\n",
       "      <td>20.042424</td>\n",
       "      <td>11.955257</td>\n",
       "      <td>0.022045</td>\n",
       "      <td>-197.919316</td>\n",
       "      <td>0.000000</td>\n",
       "      <td>0.00000</td>\n",
       "    </tr>\n",
       "    <tr>\n",
       "      <th>25%</th>\n",
       "      <td>27.877637</td>\n",
       "      <td>25.629473</td>\n",
       "      <td>43.411869</td>\n",
       "      <td>367.586782</td>\n",
       "      <td>3.836338</td>\n",
       "      <td>150.933995</td>\n",
       "      <td>0.000000</td>\n",
       "      <td>0.00000</td>\n",
       "    </tr>\n",
       "    <tr>\n",
       "      <th>50%</th>\n",
       "      <td>61.195122</td>\n",
       "      <td>29.781332</td>\n",
       "      <td>61.616768</td>\n",
       "      <td>783.803912</td>\n",
       "      <td>5.002120</td>\n",
       "      <td>308.987550</td>\n",
       "      <td>1.000000</td>\n",
       "      <td>0.00000</td>\n",
       "    </tr>\n",
       "    <tr>\n",
       "      <th>75%</th>\n",
       "      <td>117.710799</td>\n",
       "      <td>34.714288</td>\n",
       "      <td>80.481428</td>\n",
       "      <td>1568.233824</td>\n",
       "      <td>6.059815</td>\n",
       "      <td>501.245010</td>\n",
       "      <td>3.000000</td>\n",
       "      <td>1.00000</td>\n",
       "    </tr>\n",
       "    <tr>\n",
       "      <th>max</th>\n",
       "      <td>299.412942</td>\n",
       "      <td>47.443344</td>\n",
       "      <td>99.981283</td>\n",
       "      <td>4995.221303</td>\n",
       "      <td>9.998535</td>\n",
       "      <td>8832.452524</td>\n",
       "      <td>4.000000</td>\n",
       "      <td>1.00000</td>\n",
       "    </tr>\n",
       "  </tbody>\n",
       "</table>\n",
       "</div>"
      ],
      "text/plain": [
       "       Rainfall (mm)  Temperature (°C)  Humidity (%)  River Discharge (m³/s)  \\\n",
       "count    5000.000000       5000.000000   5000.000000             5000.000000   \n",
       "mean       82.937247         30.119960     62.041264             1240.658130   \n",
       "std        68.799231          6.469157     21.239291             1232.517583   \n",
       "min         0.582906         13.597231     20.042424               11.955257   \n",
       "25%        27.877637         25.629473     43.411869              367.586782   \n",
       "50%        61.195122         29.781332     61.616768              783.803912   \n",
       "75%       117.710799         34.714288     80.481428             1568.233824   \n",
       "max       299.412942         47.443344     99.981283             4995.221303   \n",
       "\n",
       "       Water Level (m)  Elevation (m)  Historical Floods  Flood Occurred  \n",
       "count      5000.000000    5000.000000        5000.000000      5000.00000  \n",
       "mean          4.965512    1144.825402           1.742800         0.32920  \n",
       "std           1.789395    2130.272042           1.446882         0.46997  \n",
       "min           0.022045    -197.919316           0.000000         0.00000  \n",
       "25%           3.836338     150.933995           0.000000         0.00000  \n",
       "50%           5.002120     308.987550           1.000000         0.00000  \n",
       "75%           6.059815     501.245010           3.000000         1.00000  \n",
       "max           9.998535    8832.452524           4.000000         1.00000  "
      ]
     },
     "execution_count": 12,
     "metadata": {},
     "output_type": "execute_result"
    }
   ],
   "source": [
    "df = pd.read_csv('dataset2.csv')\n",
    "target_column = 'Flood Occurred' if 'Flood Occurred' in df.columns else df.columns[-1]\n",
    "X = df.drop([target_column,'Historical Floods'], axis='columns')\n",
    "y = df[target_column]\n",
    "df.describe()\n",
    "# print(y.value_counts(normalize=True))\n",
    "# X.columns"
   ]
  },
  {
   "cell_type": "code",
   "execution_count": 13,
   "id": "dc07e1b3",
   "metadata": {},
   "outputs": [
    {
     "name": "stdout",
     "output_type": "stream",
     "text": [
      "Target Distribution: Flood Occurred\n",
      "0    2664\n",
      "1    1336\n",
      "Name: count, dtype: int64\n",
      "Flood Occurred\n",
      "0    0.666\n",
      "1    0.334\n",
      "Name: proportion, dtype: float64\n"
     ]
    }
   ],
   "source": [
    "# scaler = PowerTransformer()\n",
    "# X_scaled = scaler.fit_transform(X)\n",
    "X_train, X_test, y_train, y_test = train_test_split(X, y, test_size=0.2, random_state=42)\n",
    "\n",
    "print(\"Target Distribution:\", y_train.value_counts())\n",
    "print(y_train.value_counts(normalize=True))\n"
   ]
  },
  {
   "cell_type": "code",
   "execution_count": 14,
   "id": "96c431a4-442c-4b92-b3e9-bb2a29ca67ec",
   "metadata": {},
   "outputs": [],
   "source": [
    "# from imblearn.under_sampling import RandomUnderSampler\n",
    "\n",
    "# undersample = RandomUnderSampler(random_state=42)\n",
    "# X_train_resampled, y_train_resampled = undersample.fit_resample(X_train, y_train)\n",
    "\n",
    "# print(\"Target Distribution:\", y_train_resampled.value_counts())"
   ]
  },
  {
   "cell_type": "code",
   "execution_count": 15,
   "id": "db49fb7a-b0f9-4bb9-83bb-fbaccf20f125",
   "metadata": {},
   "outputs": [
    {
     "name": "stdout",
     "output_type": "stream",
     "text": [
      "Target Distribution: Flood Occurred\n",
      "0    2664\n",
      "1    2397\n",
      "Name: count, dtype: int64\n",
      "Flood Occurred\n",
      "0    0.526378\n",
      "1    0.473622\n",
      "Name: proportion, dtype: float64\n"
     ]
    }
   ],
   "source": [
    "from imblearn.over_sampling import SMOTE\n",
    "\n",
    "smote = SMOTE(sampling_strategy=0.9, random_state=42)\n",
    "X_train_resampled, y_train_resampled = smote.fit_resample(X_train, y_train)\n",
    "\n",
    "print(\"Target Distribution:\", y_train_resampled.value_counts())\n",
    "print(y_train_resampled.value_counts(normalize=True))\n",
    "# df2 = pd.concat([X_train_resampled, y_train_resampled], axis=1)\n",
    "# df2.to_csv(\"dataset3.csv\", index=False)"
   ]
  },
  {
   "cell_type": "code",
   "execution_count": 16,
   "id": "06f94a03-6c84-4ece-aed1-e6dcec819c96",
   "metadata": {},
   "outputs": [
    {
     "data": {
      "text/plain": [
       "0.707"
      ]
     },
     "execution_count": 16,
     "metadata": {},
     "output_type": "execute_result"
    }
   ],
   "source": [
    "from sklearn.metrics import accuracy_score, classification_report, confusion_matrix\n",
    "from sklearn.naive_bayes import GaussianNB\n",
    "from sklearn.model_selection import GridSearchCV\n",
    "import numpy as np\n",
    "from sklearn.preprocessing import StandardScaler\n",
    "\n",
    "scaler = StandardScaler()\n",
    "X_train_scaled = scaler.fit_transform(X_train)\n",
    "\n",
    "X_test_scaled = scaler.transform(X_test)\n",
    "# Define parameter grid for var_smoothing\n",
    "params = {'var_smoothing': np.logspace(-10, 0, 50)}\n",
    "\n",
    "# Initialize Naive Bayes model\n",
    "gnb = GaussianNB()\n",
    "# Perform GridSearchCV to find best hyperparameters\n",
    "grid_search = GridSearchCV(gnb, params, cv=10, scoring='accuracy', n_jobs=-1)\n",
    "grid_search.fit(X_train_scaled, y_train)\n",
    "\n",
    "# Best model with optimal hyperparameters\n",
    "best_gnb = grid_search.best_estimator_\n",
    "best_gnb.score(X_test_scaled,y_test)"
   ]
  },
  {
   "cell_type": "code",
   "execution_count": 17,
   "id": "b2e9919a",
   "metadata": {},
   "outputs": [
    {
     "name": "stdout",
     "output_type": "stream",
     "text": [
      "Test Accuracy: 0.707\n",
      "Confusion Matrix:\n",
      " [[612  78]\n",
      " [215  95]]\n",
      "Classification Report:\n",
      "               precision    recall  f1-score   support\n",
      "\n",
      "           0       0.74      0.89      0.81       690\n",
      "           1       0.55      0.31      0.39       310\n",
      "\n",
      "    accuracy                           0.71      1000\n",
      "   macro avg       0.64      0.60      0.60      1000\n",
      "weighted avg       0.68      0.71      0.68      1000\n",
      "\n"
     ]
    }
   ],
   "source": [
    "# Make predictions on test set\n",
    "y_pred = best_gnb.predict(X_test_scaled)\n",
    "\n",
    "# Print evaluation metrics\n",
    "print(\"Test Accuracy:\", accuracy_score(y_test, y_pred))\n",
    "print(\"Confusion Matrix:\\n\", confusion_matrix(y_test, y_pred))\n",
    "print(\"Classification Report:\\n\", classification_report(y_test, y_pred))\n"
   ]
  },
  {
   "cell_type": "code",
   "execution_count": 21,
   "id": "7be4d774-8f2d-452c-a033-e98b565a09d4",
   "metadata": {},
   "outputs": [
    {
     "name": "stdout",
     "output_type": "stream",
     "text": [
      "Flood predicted:1\n",
      "Flood possibility: 100.0%\n",
      "Flood predicted:0\n",
      "Flood possibility: 26.700000000000003%\n"
     ]
    }
   ],
   "source": [
    "def predict_flood(Rainfall, Temperature, Humidity, River_Discharge,Water_Level, Elevation):\n",
    "    v = np.array([[Rainfall, Temperature, Humidity, River_Discharge,Water_Level, Elevation]])\n",
    "    v_scaled = scaler.transform(v)\n",
    "    prediction = best_gnb.predict(v_scaled)[0]\n",
    "    probability = round(best_gnb.predict_proba(v_scaled)[0][1], 3)  # Probability of flood occurring (class 1)\n",
    "    print('Flood predicted:'+str(prediction))\n",
    "    print('Flood possibility: '+str(probability*100)+\"%\")\n",
    "\n",
    "predict_flood(150, 26, 95, 14000, 8.2,70)\n",
    "predict_flood(25, 30, 65, 3200,3.5,120)"
   ]
  },
  {
   "cell_type": "code",
   "execution_count": null,
   "id": "62e493c7-e36e-484a-a84a-d3b0ce06e749",
   "metadata": {},
   "outputs": [],
   "source": []
  }
 ],
 "metadata": {
  "kernelspec": {
   "display_name": "Python 3 (ipykernel)",
   "language": "python",
   "name": "python3"
  },
  "language_info": {
   "codemirror_mode": {
    "name": "ipython",
    "version": 3
   },
   "file_extension": ".py",
   "mimetype": "text/x-python",
   "name": "python",
   "nbconvert_exporter": "python",
   "pygments_lexer": "ipython3",
   "version": "3.11.0"
  }
 },
 "nbformat": 4,
 "nbformat_minor": 5
}
